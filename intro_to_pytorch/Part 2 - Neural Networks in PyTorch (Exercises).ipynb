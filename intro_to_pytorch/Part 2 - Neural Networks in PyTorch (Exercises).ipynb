{
 "cells": [
  {
   "cell_type": "markdown",
   "metadata": {},
   "source": [
    "# Neural networks with PyTorch\n",
    "\n",
    "Deep learning networks tend to be massive with dozens or hundreds of layers, that's where the term \"deep\" comes from. You can build one of these deep networks using only weight matrices as we did in the previous notebook, but in general it's very cumbersome and difficult to implement. PyTorch has a nice module `nn` that provides a nice way to efficiently build large neural networks."
   ]
  },
  {
   "cell_type": "code",
   "execution_count": 1,
   "metadata": {
    "ExecuteTime": {
     "end_time": "2020-11-13T15:03:15.234746Z",
     "start_time": "2020-11-13T15:03:14.501294Z"
    }
   },
   "outputs": [],
   "source": [
    "# Import necessary packages\n",
    "\n",
    "%matplotlib inline\n",
    "%config InlineBackend.figure_format = 'retina'\n",
    "\n",
    "import numpy as np\n",
    "import torch\n",
    "\n",
    "import helper\n",
    "\n",
    "import matplotlib.pyplot as plt"
   ]
  },
  {
   "cell_type": "markdown",
   "metadata": {},
   "source": [
    "\n",
    "Now we're going to build a larger network that can solve a (formerly) difficult problem, identifying text in an image. Here we'll use the MNIST dataset which consists of greyscale handwritten digits. Each image is 28x28 pixels, you can see a sample below\n",
    "\n",
    "<img src='assets/mnist.png'>\n",
    "\n",
    "Our goal is to build a neural network that can take one of these images and predict the digit in the image.\n",
    "\n",
    "First up, we need to get our dataset. This is provided through the `torchvision` package. The code below will download the MNIST dataset, then create training and test datasets for us. Don't worry too much about the details here, you'll learn more about this later."
   ]
  },
  {
   "cell_type": "code",
   "execution_count": 2,
   "metadata": {
    "ExecuteTime": {
     "end_time": "2020-11-13T15:03:15.366663Z",
     "start_time": "2020-11-13T15:03:15.236218Z"
    }
   },
   "outputs": [],
   "source": [
    "### Run this cell\n",
    "\n",
    "from torchvision import datasets, transforms\n",
    "\n",
    "# Define a transform to normalize the data\n",
    "transform = transforms.Compose([transforms.ToTensor(),\n",
    "                              transforms.Normalize((0.5,), (0.5,)),\n",
    "                              ])\n",
    "\n",
    "# Download and load the training data\n",
    "trainset = datasets.MNIST('~/.pytorch/MNIST_data/', download=True, train=True, transform=transform)\n",
    "trainloader = torch.utils.data.DataLoader(trainset, batch_size=64, shuffle=True)"
   ]
  },
  {
   "cell_type": "markdown",
   "metadata": {},
   "source": [
    "We have the training data loaded into `trainloader` and we make that an iterator with `iter(trainloader)`. Later, we'll use this to loop through the dataset for training, like\n",
    "\n",
    "```python\n",
    "for image, label in trainloader:\n",
    "    ## do things with images and labels\n",
    "```\n",
    "\n",
    "You'll notice I created the `trainloader` with a batch size of 64, and `shuffle=True`. The batch size is the number of images we get in one iteration from the data loader and pass through our network, often called a *batch*. And `shuffle=True` tells it to shuffle the dataset every time we start going through the data loader again. But here I'm just grabbing the first batch so we can check out the data. We can see below that `images` is just a tensor with size `(64, 1, 28, 28)`. So, 64 images per batch, 1 color channel, and 28x28 images."
   ]
  },
  {
   "cell_type": "code",
   "execution_count": 3,
   "metadata": {
    "ExecuteTime": {
     "end_time": "2020-11-13T15:03:15.413399Z",
     "start_time": "2020-11-13T15:03:15.368193Z"
    }
   },
   "outputs": [
    {
     "name": "stdout",
     "output_type": "stream",
     "text": [
      "<class 'torch.Tensor'>\n",
      "torch.Size([64, 1, 28, 28])\n",
      "torch.Size([64])\n"
     ]
    }
   ],
   "source": [
    "dataiter = iter(trainloader)\n",
    "images, labels = dataiter.next()\n",
    "print(type(images))\n",
    "print(images.shape)\n",
    "print(labels.shape)"
   ]
  },
  {
   "cell_type": "markdown",
   "metadata": {},
   "source": [
    "This is what one of the images looks like. "
   ]
  },
  {
   "cell_type": "code",
   "execution_count": 4,
   "metadata": {
    "ExecuteTime": {
     "end_time": "2020-11-13T15:03:15.560565Z",
     "start_time": "2020-11-13T15:03:15.415287Z"
    }
   },
   "outputs": [
    {
     "data": {
      "image/png": "[encoded data removed]",
      "text/plain": [
       "<Figure size 432x288 with 1 Axes>"
      ]
     },
     "metadata": {
      "image/png": {
       "height": 248,
       "width": 251
      },
      "needs_background": "light"
     },
     "output_type": "display_data"
    }
   ],
   "source": [
    "plt.imshow(images[1].numpy().squeeze(), cmap='Greys_r');"
   ]
  },
  {
   "cell_type": "markdown",
   "metadata": {},
   "source": [
    "First, let's try to build a simple network for this dataset using weight matrices and matrix multiplications. Then, we'll see how to do it using PyTorch's `nn` module which provides a much more convenient and powerful method for defining network architectures.\n",
    "\n",
    "The networks you've seen so far are called *fully-connected* or *dense* networks. Each unit in one layer is connected to each unit in the next layer. In fully-connected networks, the input to each layer must be a one-dimensional vector (which can be stacked into a 2D tensor as a batch of multiple examples). However, our images are 28x28 2D tensors, so we need to convert them into 1D vectors. Thinking about sizes, we need to convert the batch of images with shape `(64, 1, 28, 28)` to a have a shape of `(64, 784)`, 784 is 28 times 28. This is typically called *flattening*, we flattened the 2D images into 1D vectors.\n",
    "\n",
    "Previously you built a network with one output unit. Here we need 10 output units, one for each digit. We want our network to predict the digit shown in an image, so what we'll do is calculate probabilities that the image is of any one digit or class. This ends up being a discrete probability distribution over the classes (digits) that tells us the most likely class for the image. That means we need 10 output units for the 10 classes (digits). We'll see how to convert the network output into a probability distribution next.\n",
    "\n",
    "> **Exercise:** Flatten the batch of images `images`. Then build a multi-layer network with 784 input units, 256 hidden units, and 10 output units using random tensors for the weights and biases. For now, use a sigmoid activation for the hidden layer. Leave the output layer without an activation, we'll add one that gives us a probability distribution next."
   ]
  },
  {
   "cell_type": "code",
   "execution_count": 5,
   "metadata": {
    "ExecuteTime": {
     "end_time": "2020-11-13T15:03:15.571682Z",
     "start_time": "2020-11-13T15:03:15.562002Z"
    }
   },
   "outputs": [],
   "source": [
    "## Your solution\n",
    "images_flat = images.view((images.shape[0], -1))\n",
    "\n",
    "# Layer size\n",
    "n_input = images_flat.shape[1]\n",
    "n_hidden = 256\n",
    "n_output = 10\n",
    "\n",
    "# Set random weights\n",
    "W1 = torch.randn(n_input, n_hidden)\n",
    "W2 = torch.randn(n_hidden, n_output)\n",
    "\n",
    "# Set random bias terms\n",
    "B1 = torch.randn(1, n_hidden)\n",
    "B2 = torch.randn(1, n_output)\n",
    "\n",
    "out = torch.sigmoid(images_flat.mm(W1)+B1).mm(W2)+B2"
   ]
  },
  {
   "cell_type": "code",
   "execution_count": 6,
   "metadata": {
    "ExecuteTime": {
     "end_time": "2020-11-13T15:03:15.590184Z",
     "start_time": "2020-11-13T15:03:15.573070Z"
    }
   },
   "outputs": [
    {
     "data": {
      "text/plain": [
       "tensor([[ -4.1376, -15.2772,  -0.4283,   3.6383,   3.2709,   9.0559, -25.6815,\n",
       "           0.9636,   1.9361, -14.6807],\n",
       "        [ -5.8623,   0.1920,   2.2968,  13.6476,  12.1684,   1.5474, -23.9375,\n",
       "          -6.7547,   9.6913,   2.0613],\n",
       "        [ -6.4737,  -1.1226,   8.0415,  11.2902,  17.8472,   5.3113, -17.1871,\n",
       "          -2.6838,  11.1684,   1.2491],\n",
       "        [  0.6014, -13.5741,   5.0863,  20.4480,  18.0444,   2.8778, -17.3621,\n",
       "          -0.2675,   7.4167,  -4.7000],\n",
       "        [ -0.2994, -18.0648,  13.1865,  10.0972,   8.6374,   1.6546, -12.0596,\n",
       "           3.7447,   6.0382, -13.8950],\n",
       "        [ -8.8361, -11.3024,   3.0306,   0.6680,  14.8489,   9.9887, -12.7600,\n",
       "          -8.2975,   7.7981, -20.4648],\n",
       "        [ -1.9003, -12.5753,  12.4684,   3.7549,  15.6161,   4.6016, -16.9644,\n",
       "          -1.6581,   8.8543, -15.4794],\n",
       "        [  4.1263, -19.9186,  -2.1218,   7.3608,  13.7833,   6.6925, -15.1409,\n",
       "          -1.8367,  -1.9838, -16.0860],\n",
       "        [ -4.1055,  -5.1537,   9.1362,  12.5612,  15.3535,  13.4053, -17.3775,\n",
       "          -3.9471,  13.4269, -11.2515],\n",
       "        [-11.0334,  -8.5658,  13.7272,  13.2239,  12.1791,   5.4395, -17.8939,\n",
       "          -9.5079,   5.1434,  -2.7381],\n",
       "        [ -4.9422,  -3.9245,  14.2929,  12.6045,  11.8422,   9.6249, -20.8809,\n",
       "           0.1630,   5.6273, -10.4838],\n",
       "        [-11.8304, -13.8929,   7.1740,   9.7855,   2.3909,   5.7883, -17.5824,\n",
       "          -9.7173,  11.8382,  -5.9846],\n",
       "        [ -4.6531,  -2.1512,   6.9117,   6.0073,  17.3079,   9.2855, -24.5577,\n",
       "          -7.7181,  12.9990, -18.7278],\n",
       "        [ -6.5722,  -5.5097,  19.5855,   9.3280,   7.0951,   1.3276, -19.6000,\n",
       "           3.1087,  13.2878, -16.1649],\n",
       "        [ -9.7171, -16.4479,   8.5976,   0.8407,  13.5148,  12.9500, -13.9565,\n",
       "          -2.3390,   2.3967,  -4.7515],\n",
       "        [ -6.2422,  -5.5705,  -1.6295,  11.3399,   0.7482,  13.5835, -26.9048,\n",
       "          -5.1554,   9.1726,  -7.0620],\n",
       "        [ -0.3004, -17.5595,   4.3803,   7.7537,   8.1440,   1.0157, -15.6777,\n",
       "          -1.8353,   4.6759, -20.0819],\n",
       "        [ -8.3191, -20.5967,  10.3931,   4.1883,   5.5625,   0.7963, -20.6547,\n",
       "         -16.9211,   1.5165,  -4.8415],\n",
       "        [  3.6323,  -6.6493,   3.6666,  -0.3133,  15.6527,  -1.8894, -20.3818,\n",
       "          -1.6520,   8.9990, -19.9973],\n",
       "        [  2.6168, -18.2260,  -5.9196,  -3.1721,   9.9529,   1.7328, -13.6736,\n",
       "           4.1474,  10.7825, -12.3263],\n",
       "        [-15.4063, -17.0081,   6.4892,  -0.1119,  19.4941,   7.1214, -17.6110,\n",
       "         -11.2990,   9.9280,  -5.6934],\n",
       "        [ -1.0272, -10.0623,   3.2323,   8.1343,  19.0761,   7.7025, -17.2239,\n",
       "          -9.8630,   6.7147, -17.3609],\n",
       "        [ -3.3548, -12.8918,   3.6631,   5.6658,  15.3065,   6.5785, -16.6947,\n",
       "         -13.3106,  -0.0400, -10.2279],\n",
       "        [-10.3511, -11.9651,   0.3640,   2.5741,  11.3840,  10.0947, -19.1609,\n",
       "          -7.0479,   1.7332,  -3.9198],\n",
       "        [  1.8524, -13.9445,   0.5550,   5.2432,   3.3749,   7.4636, -19.3831,\n",
       "           3.2463,   0.4428, -20.5837],\n",
       "        [  2.1572,  -6.0836,  17.8263,  15.6044,  11.3070,  -1.6394, -21.4619,\n",
       "          -7.4240,  11.8096,  -8.6075],\n",
       "        [ -9.0740, -21.7891,  -6.0221,   2.4791,  11.0190,   2.9495, -13.8383,\n",
       "          14.1270,  12.4019, -10.3935],\n",
       "        [-11.7989,  -8.5683,  14.7162,  12.6754,   9.2173,   6.5431,  -7.6835,\n",
       "         -11.9539,  14.0287,  -1.8135],\n",
       "        [ -0.4983,  -6.0472,   7.7539,   3.1269,  12.1589,  -0.2584, -22.0758,\n",
       "          -1.7544,  13.7268, -22.6876],\n",
       "        [ -6.6002,  -7.4559,  11.1639,   0.1751,  10.5277,   5.2242, -21.1833,\n",
       "          -5.1890,   2.1202, -14.7103],\n",
       "        [ -7.2125,  -3.6004,  10.7465,   9.3803,  13.5882,  15.5300, -16.9719,\n",
       "           2.9171,  10.6913, -15.5969],\n",
       "        [ -2.9724,  -2.2444,  18.5387,   8.6857,   9.6755,  -1.6235, -14.1143,\n",
       "          -0.0734,   8.9205, -16.2527],\n",
       "        [-11.9191, -11.5702,  -0.1348,  10.5548,  16.5684,  14.1706, -18.3266,\n",
       "           4.3266,  -0.3595,  -5.3651],\n",
       "        [ -8.7414,  -4.6278,  18.8135,   9.5534,   8.8541,  -3.3963, -28.7003,\n",
       "         -10.0342,   9.0741,  -4.5193],\n",
       "        [  1.0125, -17.3580,  -1.6053,  10.6209,  13.5714,  12.9983, -12.8117,\n",
       "           2.3764,   1.5667, -14.9544],\n",
       "        [ -6.7226,  -2.1707,   2.2776,  -2.0255,  -1.0338,   3.9862, -26.6198,\n",
       "           7.1286,  -5.9859,  -8.8664],\n",
       "        [ -3.2856, -15.1217,  11.4260,   6.8672,  16.6396,   7.5449, -18.5020,\n",
       "          -0.3283,   5.2100, -15.7372],\n",
       "        [ -7.3696, -12.5860,   7.1033,  10.7942,  15.2194,   6.0546, -16.5748,\n",
       "           1.6660,   4.5954, -15.2714],\n",
       "        [ -1.7240, -15.0945,  21.3868,   8.2205,  14.7201,   6.4092, -20.4385,\n",
       "          -1.2940,  16.5685, -10.9863],\n",
       "        [ -3.1518,  -1.5527,   8.5777,   8.0800,  17.8116,   4.7383, -25.8300,\n",
       "           5.1888,   7.1743, -15.1216],\n",
       "        [ -1.1526,  -2.5933,  11.4821,   2.5805,   9.0643,  -2.7694, -18.5440,\n",
       "          -5.5015,  -0.1149,  -2.2333],\n",
       "        [-11.1086, -12.9193,   8.3438,  -4.6534,  11.0599,   4.9020, -16.0422,\n",
       "          -8.1735,  -1.1579,  -5.9889],\n",
       "        [ -0.6671, -10.6623,  10.3117,   7.9452,   8.7307,   2.6665, -22.3434,\n",
       "          -7.4036,  16.3664, -13.1034],\n",
       "        [ -3.2873,  -6.2791,   1.2934,   5.2739,  17.5686,  10.5616, -19.4029,\n",
       "          -8.5785,  13.8836, -12.5176],\n",
       "        [ -2.5956, -10.7480,   4.3524,  16.8296,  11.5628,   5.8169, -26.4318,\n",
       "          -3.3249,  14.9948,  -8.5295],\n",
       "        [-15.8343, -14.0061,   6.4659,  -5.5313,  10.7276,   8.6886, -16.9842,\n",
       "          -0.5926,   9.3309, -15.1584],\n",
       "        [ -7.1172,  -4.3200,  12.0340,  11.7779,  15.2264,  12.2046, -17.4083,\n",
       "          -5.7774,  10.1108,   3.3069],\n",
       "        [ -5.8574, -10.8951,  10.0613,   4.6190,   5.1125,  -0.2764, -22.5807,\n",
       "          -9.8899,  11.9032, -23.6682],\n",
       "        [ -0.9569, -12.0646,  14.5319,  14.2739,  18.9098,  10.9954, -24.3199,\n",
       "           9.3503,   7.6497, -10.4022],\n",
       "        [  4.7832, -12.4878,   2.6302,  18.4267,   2.5220,   1.6528, -21.0387,\n",
       "          -5.7611,   4.5938,   1.5425],\n",
       "        [ -1.1919,  -1.9508,  11.6551,   8.5524,  24.2989,   5.7916, -16.6698,\n",
       "          -5.0897,  12.2051, -14.7717],\n",
       "        [ -7.2470, -15.0996,  13.7495,  10.6953,  16.8910,   7.5163, -19.9069,\n",
       "           4.8848,   5.1733, -13.4155],\n",
       "        [  2.8618, -11.3529,   8.0348,   8.5221,  15.0244,   4.4161, -15.1233,\n",
       "          -6.8576,  14.0938, -13.5276],\n",
       "        [-14.5158, -12.9567,   8.9769,   4.4274,  10.6250,   2.7994, -21.1413,\n",
       "          -5.3904,  12.1514, -20.1441],\n",
       "        [-12.7301, -17.1912,  -2.0659, -12.5200,  14.1972,  10.4670, -16.2649,\n",
       "           0.6532,   5.9271, -28.1868],\n",
       "        [ -4.2856, -12.5112,  11.4598,   8.2492,  17.0578,   9.2443, -15.9559,\n",
       "           0.4204,  11.8737, -20.0723],\n",
       "        [ -3.8007, -11.3955,  13.4358,  11.0146,  13.9130,   4.4104, -23.6997,\n",
       "           1.9922,  14.4154,  -8.6667],\n",
       "        [ -8.3875, -15.1439,   4.7813,  13.3554,  12.1084,   6.7916, -16.8254,\n",
       "           0.4349,   7.9884, -18.3145],\n",
       "        [  1.2353, -19.7678,  -3.2626,   8.7074,   5.9595,   9.6873, -18.1776,\n",
       "           7.0249,  10.6196,  -3.7564],\n",
       "        [ -2.4783, -11.0586,   1.9449,   3.2702,  16.6562,   0.3408, -15.2354,\n",
       "          -0.9752,  12.9500, -21.6966],\n",
       "        [ -0.8695,  -2.6859,   7.0861,   7.6886,   5.7023,   3.7870, -16.1541,\n",
       "          -3.0828,   9.2975, -16.4161],\n",
       "        [  1.0632, -13.2980,  13.0514,   8.2828,  15.3537,   8.4382, -19.3637,\n",
       "           4.5724,  13.2174, -11.4305],\n",
       "        [  6.0715,  -6.9064,   7.1679,  -1.7461,  13.9832,   9.1747, -25.8746,\n",
       "           5.6733,   7.4614, -18.5758],\n",
       "        [ -5.0110,  -9.6880,   5.7545,  -2.1308,   8.2837,  11.7095, -12.7569,\n",
       "          -7.0564,  10.5020, -23.2494]])"
      ]
     },
     "execution_count": 6,
     "metadata": {},
     "output_type": "execute_result"
    }
   ],
   "source": [
    "out"
   ]
  },
  {
   "cell_type": "markdown",
   "metadata": {},
   "source": [
    "Now we have 10 outputs for our network. We want to pass in an image to our network and get out a probability distribution over the classes that tells us the likely class(es) the image belongs to. Something that looks like this:\n",
    "<img src='assets/image_distribution.png' width=500px>\n",
    "\n",
    "Here we see that the probability for each class is roughly the same. This is representing an untrained network, it hasn't seen any data yet so it just returns a uniform distribution with equal probabilities for each class.\n",
    "\n",
    "To calculate this probability distribution, we often use the [**softmax** function](https://en.wikipedia.org/wiki/Softmax_function). Mathematically this looks like\n",
    "\n",
    "$$\n",
    "\\Large \\sigma(x_i) = \\cfrac{e^{x_i}}{\\sum_k^K{e^{x_k}}}\n",
    "$$\n",
    "\n",
    "What this does is squish each input $x_i$ between 0 and 1 and normalizes the values to give you a proper probability distribution where the probabilites sum up to one.\n",
    "\n",
    "> **Exercise:** Implement a function `softmax` that performs the softmax calculation and returns probability distributions for each example in the batch. Note that you'll need to pay attention to the shapes when doing this. If you have a tensor `a` with shape `(64, 10)` and a tensor `b` with shape `(64,)`, doing `a/b` will give you an error because PyTorch will try to do the division across the columns (called broadcasting) but you'll get a size mismatch. The way to think about this is for each of the 64 examples, you only want to divide by one value, the sum in the denominator. So you need `b` to have a shape of `(64, 1)`. This way PyTorch will divide the 10 values in each row of `a` by the one value in each row of `b`. Pay attention to how you take the sum as well. You'll need to define the `dim` keyword in `torch.sum`. Setting `dim=0` takes the sum across the rows while `dim=1` takes the sum across the columns."
   ]
  },
  {
   "cell_type": "code",
   "execution_count": 7,
   "metadata": {
    "ExecuteTime": {
     "end_time": "2020-11-13T15:03:15.600503Z",
     "start_time": "2020-11-13T15:03:15.592769Z"
    }
   },
   "outputs": [
    {
     "name": "stdout",
     "output_type": "stream",
     "text": [
      "torch.Size([64, 10])\n",
      "tensor([1.0000, 1.0000, 1.0000, 1.0000, 1.0000, 1.0000, 1.0000, 1.0000, 1.0000,\n",
      "        1.0000, 1.0000, 1.0000, 1.0000, 1.0000, 1.0000, 1.0000, 1.0000, 1.0000,\n",
      "        1.0000, 1.0000, 1.0000, 1.0000, 1.0000, 1.0000, 1.0000, 1.0000, 1.0000,\n",
      "        1.0000, 1.0000, 1.0000, 1.0000, 1.0000, 1.0000, 1.0000, 1.0000, 1.0000,\n",
      "        1.0000, 1.0000, 1.0000, 1.0000, 1.0000, 1.0000, 1.0000, 1.0000, 1.0000,\n",
      "        1.0000, 1.0000, 1.0000, 1.0000, 1.0000, 1.0000, 1.0000, 1.0000, 1.0000,\n",
      "        1.0000, 1.0000, 1.0000, 1.0000, 1.0000, 1.0000, 1.0000, 1.0000, 1.0000,\n",
      "        1.0000])\n"
     ]
    }
   ],
   "source": [
    "def softmax(x):\n",
    "    ## TODO: Implement the softmax function here\n",
    "    \n",
    "    return np.exp(x)/np.exp(x).sum(dim=1).view(-1,1)\n",
    "    \n",
    "\n",
    "# Here, out should be the output of the network in the previous excercise with shape (64,10)\n",
    "probabilities = softmax(out)\n",
    "\n",
    "# Does it have the right shape? Should be (64, 10)\n",
    "print(probabilities.shape)\n",
    "# Does it sum to 1?\n",
    "print(probabilities.sum(dim=1))"
   ]
  },
  {
   "cell_type": "markdown",
   "metadata": {},
   "source": [
    "## Building networks with PyTorch\n",
    "\n",
    "PyTorch provides a module `nn` that makes building networks much simpler. Here I'll show you how to build the same one as above with 784 inputs, 256 hidden units, 10 output units and a softmax output."
   ]
  },
  {
   "cell_type": "code",
   "execution_count": 8,
   "metadata": {
    "ExecuteTime": {
     "end_time": "2020-11-13T15:03:15.604975Z",
     "start_time": "2020-11-13T15:03:15.602500Z"
    }
   },
   "outputs": [],
   "source": [
    "from torch import nn"
   ]
  },
  {
   "cell_type": "code",
   "execution_count": 9,
   "metadata": {
    "ExecuteTime": {
     "end_time": "2020-11-13T15:03:15.614742Z",
     "start_time": "2020-11-13T15:03:15.608014Z"
    }
   },
   "outputs": [],
   "source": [
    "class Network(nn.Module):\n",
    "    def __init__(self):\n",
    "        super().__init__()\n",
    "        \n",
    "        # Inputs to hidden layer linear transformation\n",
    "        self.hidden = nn.Linear(784, 256)\n",
    "        # Output layer, 10 units - one for each digit\n",
    "        self.output = nn.Linear(256, 10)\n",
    "        \n",
    "        # Define sigmoid activation and softmax output \n",
    "        self.sigmoid = nn.Sigmoid()\n",
    "        self.softmax = nn.Softmax(dim=1)\n",
    "        \n",
    "    def forward(self, x):\n",
    "        # Pass the input tensor through each of our operations\n",
    "        x = self.hidden(x)\n",
    "        x = self.sigmoid(x)\n",
    "        x = self.output(x)\n",
    "        x = self.softmax(x)\n",
    "        \n",
    "        return x"
   ]
  },
  {
   "cell_type": "markdown",
   "metadata": {},
   "source": [
    "Let's go through this bit by bit.\n",
    "\n",
    "```python\n",
    "class Network(nn.Module):\n",
    "```\n",
    "\n",
    "Here we're inheriting from `nn.Module`. Combined with `super().__init__()` this creates a class that tracks the architecture and provides a lot of useful methods and attributes. It is mandatory to inherit from `nn.Module` when you're creating a class for your network. The name of the class itself can be anything.\n",
    "\n",
    "```python\n",
    "self.hidden = nn.Linear(784, 256)\n",
    "```\n",
    "\n",
    "This line creates a module for a linear transformation, $x\\mathbf{W} + b$, with 784 inputs and 256 outputs and assigns it to `self.hidden`. The module automatically creates the weight and bias tensors which we'll use in the `forward` method. You can access the weight and bias tensors once the network (`net`) is created with `net.hidden.weight` and `net.hidden.bias`.\n",
    "\n",
    "```python\n",
    "self.output = nn.Linear(256, 10)\n",
    "```\n",
    "\n",
    "Similarly, this creates another linear transformation with 256 inputs and 10 outputs.\n",
    "\n",
    "```python\n",
    "self.sigmoid = nn.Sigmoid()\n",
    "self.softmax = nn.Softmax(dim=1)\n",
    "```\n",
    "\n",
    "Here I defined operations for the sigmoid activation and softmax output. Setting `dim=1` in `nn.Softmax(dim=1)` calculates softmax across the columns.\n",
    "\n",
    "```python\n",
    "def forward(self, x):\n",
    "```\n",
    "\n",
    "PyTorch networks created with `nn.Module` must have a `forward` method defined. It takes in a tensor `x` and passes it through the operations you defined in the `__init__` method.\n",
    "\n",
    "```python\n",
    "x = self.hidden(x)\n",
    "x = self.sigmoid(x)\n",
    "x = self.output(x)\n",
    "x = self.softmax(x)\n",
    "```\n",
    "\n",
    "Here the input tensor `x` is passed through each operation and reassigned to `x`. We can see that the input tensor goes through the hidden layer, then a sigmoid function, then the output layer, and finally the softmax function. It doesn't matter what you name the variables here, as long as the inputs and outputs of the operations match the network architecture you want to build. The order in which you define things in the `__init__` method doesn't matter, but you'll need to sequence the operations correctly in the `forward` method.\n",
    "\n",
    "Now we can create a `Network` object."
   ]
  },
  {
   "cell_type": "code",
   "execution_count": 10,
   "metadata": {
    "ExecuteTime": {
     "end_time": "2020-11-13T15:03:15.625216Z",
     "start_time": "2020-11-13T15:03:15.617011Z"
    }
   },
   "outputs": [
    {
     "data": {
      "text/plain": [
       "Network(\n",
       "  (hidden): Linear(in_features=784, out_features=256, bias=True)\n",
       "  (output): Linear(in_features=256, out_features=10, bias=True)\n",
       "  (sigmoid): Sigmoid()\n",
       "  (softmax): Softmax(dim=1)\n",
       ")"
      ]
     },
     "execution_count": 10,
     "metadata": {},
     "output_type": "execute_result"
    }
   ],
   "source": [
    "# Create the network and look at it's text representation\n",
    "model = Network()\n",
    "model"
   ]
  },
  {
   "cell_type": "markdown",
   "metadata": {},
   "source": [
    "You can define the network somewhat more concisely and clearly using the `torch.nn.functional` module. This is the most common way you'll see networks defined as many operations are simple element-wise functions. We normally import this module as `F`, `import torch.nn.functional as F`."
   ]
  },
  {
   "cell_type": "code",
   "execution_count": 11,
   "metadata": {
    "ExecuteTime": {
     "end_time": "2020-11-13T15:03:15.630660Z",
     "start_time": "2020-11-13T15:03:15.626634Z"
    }
   },
   "outputs": [],
   "source": [
    "import torch.nn.functional as F\n",
    "\n",
    "class Network(nn.Module):\n",
    "    def __init__(self):\n",
    "        super().__init__()\n",
    "        # Inputs to hidden layer linear transformation\n",
    "        self.hidden = nn.Linear(784, 256)\n",
    "        # Output layer, 10 units - one for each digit\n",
    "        self.output = nn.Linear(256, 10)\n",
    "        \n",
    "    def forward(self, x):\n",
    "        # Hidden layer with sigmoid activation\n",
    "        x = F.sigmoid(self.hidden(x))\n",
    "        # Output layer with softmax activation\n",
    "        x = F.softmax(self.output(x), dim=1)\n",
    "        \n",
    "        return x"
   ]
  },
  {
   "cell_type": "markdown",
   "metadata": {},
   "source": [
    "### Activation functions\n",
    "\n",
    "So far we've only been looking at the sigmoid activation function, but in general any function can be used as an activation function. The only requirement is that for a network to approximate a non-linear function, the activation functions must be non-linear. Here are a few more examples of common activation functions: Tanh (hyperbolic tangent), and ReLU (rectified linear unit).\n",
    "\n",
    "<img src=\"assets/activation.png\" width=700px>\n",
    "\n",
    "In practice, the ReLU function is used almost exclusively as the activation function for hidden layers."
   ]
  },
  {
   "cell_type": "markdown",
   "metadata": {},
   "source": [
    "### Your Turn to Build a Network\n",
    "\n",
    "<img src=\"assets/mlp_mnist.png\" width=600px>\n",
    "\n",
    "> **Exercise:** Create a network with 784 input units, a hidden layer with 128 units and a ReLU activation, then a hidden layer with 64 units and a ReLU activation, and finally an output layer with a softmax activation as shown above. You can use a ReLU activation with the `nn.ReLU` module or `F.relu` function.\n",
    "\n",
    "It's good practice to name your layers by their type of network, for instance 'fc' to represent a fully-connected layer. As you code your solution, use `fc1`, `fc2`, and `fc3` as your layer names."
   ]
  },
  {
   "cell_type": "code",
   "execution_count": 12,
   "metadata": {
    "ExecuteTime": {
     "end_time": "2020-11-13T15:03:15.646702Z",
     "start_time": "2020-11-13T15:03:15.632775Z"
    },
    "scrolled": true
   },
   "outputs": [
    {
     "data": {
      "text/plain": [
       "Network(\n",
       "  (fc1): Linear(in_features=784, out_features=128, bias=True)\n",
       "  (fc2): Linear(in_features=128, out_features=64, bias=True)\n",
       "  (output): Linear(in_features=64, out_features=10, bias=True)\n",
       ")"
      ]
     },
     "execution_count": 12,
     "metadata": {},
     "output_type": "execute_result"
    }
   ],
   "source": [
    "## Your solution here\n",
    "import torch.nn.functional as F\n",
    "\n",
    "class Network(nn.Module):\n",
    "    def __init__(self):\n",
    "        super().__init__()\n",
    "        # Inputs to hidden layer linear transformation\n",
    "        self.fc1 = nn.Linear(784, 128)\n",
    "        self.fc2 = nn.Linear(128, 64)\n",
    "        \n",
    "        # Output layer, 10 units - one for each digit\n",
    "        self.output = nn.Linear(64, 10)\n",
    "        \n",
    "    def forward(self, x):\n",
    "        # Hidden layer with sigmoid activation\n",
    "        x = F.relu(self.fc1(x))\n",
    "        x = F.relu(self.fc2(x))\n",
    "        # Output layer with softmax activation\n",
    "        x = F.softmax(self.output(x), dim=1)\n",
    "        \n",
    "        return x\n",
    "    \n",
    "model = Network()\n",
    "model"
   ]
  },
  {
   "cell_type": "markdown",
   "metadata": {},
   "source": [
    "### Initializing weights and biases\n",
    "\n",
    "The weights and such are automatically initialized for you, but it's possible to customize how they are initialized. The weights and biases are tensors attached to the layer you defined, you can get them with `model.fc1.weight` for instance."
   ]
  },
  {
   "cell_type": "code",
   "execution_count": 13,
   "metadata": {
    "ExecuteTime": {
     "end_time": "2020-11-13T15:03:21.110520Z",
     "start_time": "2020-11-13T15:03:21.102457Z"
    }
   },
   "outputs": [
    {
     "name": "stdout",
     "output_type": "stream",
     "text": [
      "Parameter containing:\n",
      "tensor([[ 0.0109, -0.0337,  0.0177,  ...,  0.0059, -0.0299, -0.0161],\n",
      "        [-0.0030, -0.0211,  0.0179,  ..., -0.0203,  0.0094,  0.0176],\n",
      "        [ 0.0150,  0.0177,  0.0025,  ...,  0.0142, -0.0059, -0.0137],\n",
      "        ...,\n",
      "        [-0.0048, -0.0220,  0.0125,  ..., -0.0049,  0.0071, -0.0193],\n",
      "        [ 0.0075,  0.0077, -0.0337,  ..., -0.0189,  0.0289, -0.0044],\n",
      "        [ 0.0257,  0.0062,  0.0267,  ...,  0.0174,  0.0334, -0.0128]],\n",
      "       requires_grad=True)\n",
      "Parameter containing:\n",
      "tensor([ 0.0145, -0.0121, -0.0216, -0.0299,  0.0241,  0.0299,  0.0144, -0.0033,\n",
      "        -0.0355, -0.0260, -0.0122,  0.0329, -0.0007,  0.0127,  0.0190,  0.0217,\n",
      "         0.0079,  0.0122,  0.0307,  0.0053,  0.0277, -0.0283,  0.0212,  0.0144,\n",
      "        -0.0171,  0.0340, -0.0303,  0.0357, -0.0182, -0.0071, -0.0216, -0.0191,\n",
      "        -0.0129, -0.0106, -0.0082, -0.0266,  0.0103, -0.0276,  0.0048,  0.0013,\n",
      "         0.0009, -0.0199,  0.0309, -0.0305, -0.0142,  0.0349,  0.0078,  0.0080,\n",
      "        -0.0127, -0.0329,  0.0208, -0.0337,  0.0305,  0.0103, -0.0202,  0.0325,\n",
      "        -0.0346, -0.0355,  0.0323,  0.0112,  0.0128, -0.0190,  0.0136,  0.0226,\n",
      "         0.0351,  0.0281, -0.0338,  0.0332, -0.0059, -0.0327, -0.0232,  0.0071,\n",
      "         0.0318, -0.0147,  0.0148,  0.0340, -0.0240,  0.0006,  0.0090,  0.0216,\n",
      "        -0.0101, -0.0131,  0.0315,  0.0055,  0.0145,  0.0308,  0.0305, -0.0034,\n",
      "         0.0108,  0.0341, -0.0329, -0.0314,  0.0325,  0.0146, -0.0115,  0.0177,\n",
      "         0.0313, -0.0024,  0.0226,  0.0155, -0.0032, -0.0183,  0.0265,  0.0322,\n",
      "        -0.0284,  0.0137, -0.0307, -0.0122,  0.0067, -0.0340, -0.0029,  0.0130,\n",
      "        -0.0151,  0.0129,  0.0165,  0.0105, -0.0122,  0.0138,  0.0285, -0.0331,\n",
      "         0.0286, -0.0171,  0.0234,  0.0206, -0.0297,  0.0080, -0.0303, -0.0338],\n",
      "       requires_grad=True)\n"
     ]
    }
   ],
   "source": [
    "print(model.fc1.weight)\n",
    "print(model.fc1.bias)"
   ]
  },
  {
   "cell_type": "markdown",
   "metadata": {},
   "source": [
    "For custom initialization, we want to modify these tensors in place. These are actually autograd *Variables*, so we need to get back the actual tensors with `model.fc1.weight.data`. Once we have the tensors, we can fill them with zeros (for biases) or random normal values."
   ]
  },
  {
   "cell_type": "code",
   "execution_count": 14,
   "metadata": {
    "ExecuteTime": {
     "end_time": "2020-11-13T15:04:42.114246Z",
     "start_time": "2020-11-13T15:04:42.110309Z"
    }
   },
   "outputs": [
    {
     "data": {
      "text/plain": [
       "tensor([0., 0., 0., 0., 0., 0., 0., 0., 0., 0., 0., 0., 0., 0., 0., 0., 0., 0., 0., 0., 0., 0., 0., 0.,\n",
       "        0., 0., 0., 0., 0., 0., 0., 0., 0., 0., 0., 0., 0., 0., 0., 0., 0., 0., 0., 0., 0., 0., 0., 0.,\n",
       "        0., 0., 0., 0., 0., 0., 0., 0., 0., 0., 0., 0., 0., 0., 0., 0., 0., 0., 0., 0., 0., 0., 0., 0.,\n",
       "        0., 0., 0., 0., 0., 0., 0., 0., 0., 0., 0., 0., 0., 0., 0., 0., 0., 0., 0., 0., 0., 0., 0., 0.,\n",
       "        0., 0., 0., 0., 0., 0., 0., 0., 0., 0., 0., 0., 0., 0., 0., 0., 0., 0., 0., 0., 0., 0., 0., 0.,\n",
       "        0., 0., 0., 0., 0., 0., 0., 0.])"
      ]
     },
     "execution_count": 14,
     "metadata": {},
     "output_type": "execute_result"
    }
   ],
   "source": [
    "# Set biases to all zeros\n",
    "model.fc1.bias.data.fill_(0)"
   ]
  },
  {
   "cell_type": "code",
   "execution_count": 15,
   "metadata": {
    "ExecuteTime": {
     "end_time": "2020-11-13T15:04:43.418445Z",
     "start_time": "2020-11-13T15:04:43.401779Z"
    }
   },
   "outputs": [
    {
     "data": {
      "text/plain": [
       "tensor([[ 0.0046, -0.0123,  0.0048,  ..., -0.0134,  0.0089,  0.0022],\n",
       "        [ 0.0143, -0.0055,  0.0055,  ..., -0.0128, -0.0019, -0.0011],\n",
       "        [-0.0016,  0.0130, -0.0046,  ..., -0.0104, -0.0026,  0.0038],\n",
       "        ...,\n",
       "        [ 0.0148,  0.0077,  0.0077,  ..., -0.0093, -0.0248, -0.0072],\n",
       "        [-0.0017, -0.0195,  0.0020,  ...,  0.0172,  0.0007, -0.0238],\n",
       "        [-0.0011, -0.0101,  0.0003,  ..., -0.0003, -0.0047,  0.0031]])"
      ]
     },
     "execution_count": 15,
     "metadata": {},
     "output_type": "execute_result"
    }
   ],
   "source": [
    "# sample from random normal with standard dev = 0.01\n",
    "model.fc1.weight.data.normal_(std=0.01)"
   ]
  },
  {
   "cell_type": "markdown",
   "metadata": {},
   "source": [
    "### Forward pass\n",
    "\n",
    "Now that we have a network, let's see what happens when we pass in an image."
   ]
  },
  {
   "cell_type": "code",
   "execution_count": 16,
   "metadata": {
    "ExecuteTime": {
     "end_time": "2020-11-13T15:04:49.240001Z",
     "start_time": "2020-11-13T15:04:49.020254Z"
    }
   },
   "outputs": [
    {
     "data": {
      "image/png": "[encoded data removed]",
      "text/plain": [
       "<Figure size 432x648 with 2 Axes>"
      ]
     },
     "metadata": {
      "image/png": {
       "height": 235,
       "width": 424
      },
      "needs_background": "light"
     },
     "output_type": "display_data"
    }
   ],
   "source": [
    "# Grab some data \n",
    "dataiter = iter(trainloader)\n",
    "images, labels = dataiter.next()\n",
    "\n",
    "# Resize images into a 1D vector, new shape is (batch size, color channels, image pixels) \n",
    "images.resize_(64, 1, 784)\n",
    "# or images.resize_(images.shape[0], 1, 784) to automatically get batch size\n",
    "\n",
    "# Forward pass through the network\n",
    "img_idx = 0\n",
    "ps = model.forward(images[img_idx,:])\n",
    "\n",
    "img = images[img_idx]\n",
    "helper.view_classify(img.view(1, 28, 28), ps)"
   ]
  },
  {
   "cell_type": "markdown",
   "metadata": {},
   "source": [
    "As you can see above, our network has basically no idea what this digit is. It's because we haven't trained it yet, all the weights are random!\n",
    "\n",
    "### Using `nn.Sequential`\n",
    "\n",
    "PyTorch provides a convenient way to build networks like this where a tensor is passed sequentially through operations, `nn.Sequential` ([documentation](https://pytorch.org/docs/master/nn.html#torch.nn.Sequential)). Using this to build the equivalent network:"
   ]
  },
  {
   "cell_type": "code",
   "execution_count": 17,
   "metadata": {
    "ExecuteTime": {
     "end_time": "2020-11-13T15:05:47.764336Z",
     "start_time": "2020-11-13T15:05:47.562134Z"
    }
   },
   "outputs": [
    {
     "name": "stdout",
     "output_type": "stream",
     "text": [
      "Sequential(\n",
      "  (0): Linear(in_features=784, out_features=128, bias=True)\n",
      "  (1): ReLU()\n",
      "  (2): Linear(in_features=128, out_features=64, bias=True)\n",
      "  (3): ReLU()\n",
      "  (4): Linear(in_features=64, out_features=10, bias=True)\n",
      "  (5): Softmax(dim=1)\n",
      ")\n"
     ]
    },
    {
     "data": {
      "image/png": "[encoded data removed]",
      "text/plain": [
       "<Figure size 432x648 with 2 Axes>"
      ]
     },
     "metadata": {
      "image/png": {
       "height": 235,
       "width": 424
      },
      "needs_background": "light"
     },
     "output_type": "display_data"
    }
   ],
   "source": [
    "# Hyperparameters for our network\n",
    "input_size = 784\n",
    "hidden_sizes = [128, 64]\n",
    "output_size = 10\n",
    "\n",
    "# Build a feed-forward network\n",
    "model = nn.Sequential(nn.Linear(input_size, hidden_sizes[0]),\n",
    "                      nn.ReLU(),\n",
    "                      nn.Linear(hidden_sizes[0], hidden_sizes[1]),\n",
    "                      nn.ReLU(),\n",
    "                      nn.Linear(hidden_sizes[1], output_size),\n",
    "                      nn.Softmax(dim=1))\n",
    "print(model)\n",
    "\n",
    "# Forward pass through the network and display output\n",
    "images, labels = next(iter(trainloader))\n",
    "images.resize_(images.shape[0], 1, 784)\n",
    "ps = model.forward(images[0,:])\n",
    "helper.view_classify(images[0].view(1, 28, 28), ps)"
   ]
  },
  {
   "cell_type": "markdown",
   "metadata": {},
   "source": [
    "Here our model is the same as before: 784 input units, a hidden layer with 128 units, ReLU activation, 64 unit hidden layer, another ReLU, then the output layer with 10 units, and the softmax output.\n",
    "\n",
    "The operations are available by passing in the appropriate index. For example, if you want to get first Linear operation and look at the weights, you'd use `model[0]`."
   ]
  },
  {
   "cell_type": "code",
   "execution_count": 18,
   "metadata": {
    "ExecuteTime": {
     "end_time": "2020-11-13T15:06:18.486993Z",
     "start_time": "2020-11-13T15:06:18.470115Z"
    }
   },
   "outputs": [
    {
     "name": "stdout",
     "output_type": "stream",
     "text": [
      "Linear(in_features=784, out_features=128, bias=True)\n"
     ]
    },
    {
     "data": {
      "text/plain": [
       "Parameter containing:\n",
       "tensor([[ 0.0182,  0.0337,  0.0014,  ..., -0.0244, -0.0110,  0.0256],\n",
       "        [-0.0092,  0.0304, -0.0186,  ...,  0.0267, -0.0067,  0.0083],\n",
       "        [ 0.0286, -0.0011, -0.0001,  ..., -0.0138, -0.0057,  0.0062],\n",
       "        ...,\n",
       "        [-0.0151, -0.0043, -0.0124,  ...,  0.0333, -0.0044,  0.0342],\n",
       "        [-0.0118, -0.0264, -0.0139,  ...,  0.0182, -0.0107,  0.0322],\n",
       "        [ 0.0087, -0.0357,  0.0319,  ..., -0.0050, -0.0305,  0.0121]],\n",
       "       requires_grad=True)"
      ]
     },
     "execution_count": 18,
     "metadata": {},
     "output_type": "execute_result"
    }
   ],
   "source": [
    "print(model[0])\n",
    "model[0].weight"
   ]
  },
  {
   "cell_type": "markdown",
   "metadata": {},
   "source": [
    "You can also pass in an `OrderedDict` to name the individual layers and operations, instead of using incremental integers. Note that dictionary keys must be unique, so _each operation must have a different name_."
   ]
  },
  {
   "cell_type": "code",
   "execution_count": 19,
   "metadata": {
    "ExecuteTime": {
     "end_time": "2020-11-13T15:06:37.858134Z",
     "start_time": "2020-11-13T15:06:37.849134Z"
    }
   },
   "outputs": [
    {
     "data": {
      "text/plain": [
       "Sequential(\n",
       "  (fc1): Linear(in_features=784, out_features=128, bias=True)\n",
       "  (relu1): ReLU()\n",
       "  (fc2): Linear(in_features=128, out_features=64, bias=True)\n",
       "  (relu2): ReLU()\n",
       "  (output): Linear(in_features=64, out_features=10, bias=True)\n",
       "  (softmax): Softmax(dim=1)\n",
       ")"
      ]
     },
     "execution_count": 19,
     "metadata": {},
     "output_type": "execute_result"
    }
   ],
   "source": [
    "from collections import OrderedDict\n",
    "model = nn.Sequential(OrderedDict([\n",
    "                      ('fc1', nn.Linear(input_size, hidden_sizes[0])),\n",
    "                      ('relu1', nn.ReLU()),\n",
    "                      ('fc2', nn.Linear(hidden_sizes[0], hidden_sizes[1])),\n",
    "                      ('relu2', nn.ReLU()),\n",
    "                      ('output', nn.Linear(hidden_sizes[1], output_size)),\n",
    "                      ('softmax', nn.Softmax(dim=1))]))\n",
    "model"
   ]
  },
  {
   "cell_type": "markdown",
   "metadata": {},
   "source": [
    "Now you can access layers either by integer or the name"
   ]
  },
  {
   "cell_type": "code",
   "execution_count": 20,
   "metadata": {
    "ExecuteTime": {
     "end_time": "2020-11-13T15:07:12.372633Z",
     "start_time": "2020-11-13T15:07:12.367512Z"
    }
   },
   "outputs": [
    {
     "name": "stdout",
     "output_type": "stream",
     "text": [
      "Linear(in_features=784, out_features=128, bias=True)\n",
      "Linear(in_features=784, out_features=128, bias=True)\n"
     ]
    }
   ],
   "source": [
    "print(model[0])\n",
    "print(model.fc1)"
   ]
  },
  {
   "cell_type": "markdown",
   "metadata": {},
   "source": [
    "In the next notebook, we'll see how we can train a neural network to accuractly predict the numbers appearing in the MNIST images."
   ]
  }
 ],
 "metadata": {
  "kernelspec": {
   "display_name": "Python 3",
   "language": "python",
   "name": "python3"
  },
  "language_info": {
   "codemirror_mode": {
    "name": "ipython",
    "version": 3
   },
   "file_extension": ".py",
   "mimetype": "text/x-python",
   "name": "python",
   "nbconvert_exporter": "python",
   "pygments_lexer": "ipython3",
   "version": "3.6.9"
  }
 },
 "nbformat": 4,
 "nbformat_minor": 2
}
