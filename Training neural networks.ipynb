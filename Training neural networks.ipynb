{
 "cells": [
  {
   "cell_type": "markdown",
   "metadata": {},
   "source": [
    "# Training neural networks"
   ]
  },
  {
   "cell_type": "markdown",
   "metadata": {},
   "source": [
    "## Underfitting vs. overfitting"
   ]
  },
  {
   "cell_type": "markdown",
   "metadata": {},
   "source": [
    "- Underfitting is error due to bias\n",
    "- Overfitting is error due to variance\n",
    "- It's really hard to find the right architecture for a neural network (balance between being overly simplistic vs. overly complicated). Best to err on the side of overly complicated models and introduce controls to prevent overfitting."
   ]
  },
  {
   "cell_type": "markdown",
   "metadata": {},
   "source": [
    "## Techniques to control overfitting"
   ]
  },
  {
   "cell_type": "markdown",
   "metadata": {},
   "source": [
    "### Early stopping"
   ]
  },
  {
   "cell_type": "markdown",
   "metadata": {},
   "source": [
    "- The model complexity graph plots the test and training error versus the number of epochs, which can be considered as a measure of complexity.\n",
    "- When considering errors on trainings vs. test data on the model complexity graph, the error will decrease for the training set with more epochs.\n",
    "- The error on the test data is initially large due to the randomised weights, but then decreases as long as the model generalises well until it reaches the minimum point - the Goldilocks spot. After this point, the model starts overfitting and starts memorizing the training data.\n",
    "- **Early stopping** determines the number of epochs required to reach the Goldilocks point."
   ]
  },
  {
   "cell_type": "code",
   "execution_count": null,
   "metadata": {},
   "outputs": [],
   "source": []
  }
 ],
 "metadata": {
  "kernelspec": {
   "display_name": "Python 3",
   "language": "python",
   "name": "python3"
  },
  "language_info": {
   "codemirror_mode": {
    "name": "ipython",
    "version": 3
   },
   "file_extension": ".py",
   "mimetype": "text/x-python",
   "name": "python",
   "nbconvert_exporter": "python",
   "pygments_lexer": "ipython3",
   "version": "3.7.5"
  }
 },
 "nbformat": 4,
 "nbformat_minor": 4
}
